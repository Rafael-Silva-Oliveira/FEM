{
 "cells": [
  {
   "cell_type": "markdown",
   "metadata": {},
   "source": [
    "# Modulos\n"
   ]
  },
  {
   "cell_type": "code",
   "execution_count": 104,
   "metadata": {},
   "outputs": [],
   "source": [
    "import numpy as np\n",
    "import pandas as pd\n",
    "from sklearn.decomposition import PCA\n",
    "from sklearn import preprocessing\n",
    "import matplotlib.pyplot as plt\n",
    "import os\n",
    "# import the relevant modules\n",
    "\n",
    "from sklearn.cluster import KMeans\n",
    "from Bio import SeqIO\n",
    "import copy\n",
    "import math\n",
    "import glob\n",
    "import re\t\n",
    "import plotly.express as px\n"
   ]
  },
  {
   "cell_type": "code",
   "execution_count": 130,
   "metadata": {},
   "outputs": [],
   "source": [
    "final_df = pd.read_csv(\"snv_data.csv\")\n",
    "final_df = final_df.fillna(0)"
   ]
  },
  {
   "cell_type": "markdown",
   "metadata": {},
   "source": [
    "* Soma < 200"
   ]
  },
  {
   "cell_type": "code",
   "execution_count": 131,
   "metadata": {},
   "outputs": [],
   "source": [
    "for column in final_df.columns[14:]:\n",
    "\tif sum(final_df[column]) < 200:\n",
    "\t\tfinal_df.drop([column], axis=1, inplace=True)\n",
    "\telse:\n",
    "\t\tcontinue"
   ]
  },
  {
   "cell_type": "code",
   "execution_count": 146,
   "metadata": {},
   "outputs": [],
   "source": [
    "final_df.to_csv(\"snv_data_r.csv\")"
   ]
  },
  {
   "cell_type": "markdown",
   "metadata": {},
   "source": [
    "* Soma < 30"
   ]
  },
  {
   "cell_type": "code",
   "execution_count": 91,
   "metadata": {},
   "outputs": [],
   "source": [
    "# for column in final_df.columns[14:]:\n",
    "# \tif sum(final_df[column]) < 30:\n",
    "# \t\tfinal_df.drop([column], axis=1, inplace=True)\n",
    "# \telse:\n",
    "# \t\tcontinue"
   ]
  },
  {
   "cell_type": "markdown",
   "metadata": {},
   "source": [
    "* Soma < 20"
   ]
  },
  {
   "cell_type": "code",
   "execution_count": null,
   "metadata": {},
   "outputs": [],
   "source": [
    "# for column in final_df.columns[14:]:\n",
    "# \tif sum(final_df[column]) < 20:\n",
    "# \t\tfinal_df.drop([column], axis=1, inplace=True)\n",
    "# \telse:\n",
    "# \t\tcontinue"
   ]
  },
  {
   "cell_type": "markdown",
   "metadata": {},
   "source": [
    "* Soma < 10"
   ]
  },
  {
   "cell_type": "code",
   "execution_count": null,
   "metadata": {},
   "outputs": [],
   "source": [
    "# for column in final_df.columns[14:]:\n",
    "# \tif sum(final_df[column]) < 10:\n",
    "# \t\tfinal_df.drop([column], axis=1, inplace=True)\n",
    "# \telse:\n",
    "# \t\tcontinue"
   ]
  },
  {
   "cell_type": "code",
   "execution_count": 132,
   "metadata": {},
   "outputs": [
    {
     "data": {
      "text/html": [
       "<div>\n",
       "<style scoped>\n",
       "    .dataframe tbody tr th:only-of-type {\n",
       "        vertical-align: middle;\n",
       "    }\n",
       "\n",
       "    .dataframe tbody tr th {\n",
       "        vertical-align: top;\n",
       "    }\n",
       "\n",
       "    .dataframe thead th {\n",
       "        text-align: right;\n",
       "    }\n",
       "</style>\n",
       "<table border=\"1\" class=\"dataframe\">\n",
       "  <thead>\n",
       "    <tr style=\"text-align: right;\">\n",
       "      <th></th>\n",
       "      <th>seqName</th>\n",
       "      <th>clade</th>\n",
       "      <th>C&gt;T</th>\n",
       "      <th>A&gt;G</th>\n",
       "      <th>G&gt;A</th>\n",
       "      <th>G&gt;C</th>\n",
       "      <th>T&gt;C</th>\n",
       "      <th>C&gt;A</th>\n",
       "      <th>G&gt;T</th>\n",
       "      <th>A&gt;T</th>\n",
       "      <th>...</th>\n",
       "      <th>T&gt;G</th>\n",
       "      <th>A&gt;C</th>\n",
       "      <th>C&gt;G</th>\n",
       "      <th>A&gt;del</th>\n",
       "      <th>TAT&gt;del</th>\n",
       "      <th>TTA&gt;del</th>\n",
       "      <th>TCTGGTTTT&gt;del</th>\n",
       "      <th>TACATG&gt;del</th>\n",
       "      <th>AGTTCA&gt;del</th>\n",
       "      <th>GATTTC&gt;del</th>\n",
       "    </tr>\n",
       "  </thead>\n",
       "  <tbody>\n",
       "    <tr>\n",
       "      <th>0</th>\n",
       "      <td>Wuhan/Hu-1/2019</td>\n",
       "      <td>19A</td>\n",
       "      <td>0.0</td>\n",
       "      <td>0.0</td>\n",
       "      <td>0.0</td>\n",
       "      <td>0.0</td>\n",
       "      <td>0.0</td>\n",
       "      <td>0.0</td>\n",
       "      <td>0.0</td>\n",
       "      <td>0.0</td>\n",
       "      <td>...</td>\n",
       "      <td>0.0</td>\n",
       "      <td>0.0</td>\n",
       "      <td>0.0</td>\n",
       "      <td>0.0</td>\n",
       "      <td>0.0</td>\n",
       "      <td>0.0</td>\n",
       "      <td>0.0</td>\n",
       "      <td>0.0</td>\n",
       "      <td>0.0</td>\n",
       "      <td>0.0</td>\n",
       "    </tr>\n",
       "    <tr>\n",
       "      <th>1</th>\n",
       "      <td>Portugal/CV62/2020</td>\n",
       "      <td>20B</td>\n",
       "      <td>4.0</td>\n",
       "      <td>1.0</td>\n",
       "      <td>2.0</td>\n",
       "      <td>1.0</td>\n",
       "      <td>0.0</td>\n",
       "      <td>0.0</td>\n",
       "      <td>0.0</td>\n",
       "      <td>0.0</td>\n",
       "      <td>...</td>\n",
       "      <td>0.0</td>\n",
       "      <td>0.0</td>\n",
       "      <td>0.0</td>\n",
       "      <td>0.0</td>\n",
       "      <td>0.0</td>\n",
       "      <td>0.0</td>\n",
       "      <td>0.0</td>\n",
       "      <td>0.0</td>\n",
       "      <td>0.0</td>\n",
       "      <td>0.0</td>\n",
       "    </tr>\n",
       "    <tr>\n",
       "      <th>2</th>\n",
       "      <td>Portugal/CV63/2020</td>\n",
       "      <td>20A</td>\n",
       "      <td>4.0</td>\n",
       "      <td>1.0</td>\n",
       "      <td>0.0</td>\n",
       "      <td>0.0</td>\n",
       "      <td>0.0</td>\n",
       "      <td>0.0</td>\n",
       "      <td>0.0</td>\n",
       "      <td>0.0</td>\n",
       "      <td>...</td>\n",
       "      <td>0.0</td>\n",
       "      <td>0.0</td>\n",
       "      <td>0.0</td>\n",
       "      <td>0.0</td>\n",
       "      <td>0.0</td>\n",
       "      <td>0.0</td>\n",
       "      <td>0.0</td>\n",
       "      <td>0.0</td>\n",
       "      <td>0.0</td>\n",
       "      <td>0.0</td>\n",
       "    </tr>\n",
       "    <tr>\n",
       "      <th>3</th>\n",
       "      <td>Portugal/PT0001b/2020</td>\n",
       "      <td>20B</td>\n",
       "      <td>4.0</td>\n",
       "      <td>1.0</td>\n",
       "      <td>2.0</td>\n",
       "      <td>1.0</td>\n",
       "      <td>0.0</td>\n",
       "      <td>0.0</td>\n",
       "      <td>0.0</td>\n",
       "      <td>0.0</td>\n",
       "      <td>...</td>\n",
       "      <td>0.0</td>\n",
       "      <td>0.0</td>\n",
       "      <td>0.0</td>\n",
       "      <td>0.0</td>\n",
       "      <td>0.0</td>\n",
       "      <td>0.0</td>\n",
       "      <td>0.0</td>\n",
       "      <td>0.0</td>\n",
       "      <td>0.0</td>\n",
       "      <td>0.0</td>\n",
       "    </tr>\n",
       "    <tr>\n",
       "      <th>4</th>\n",
       "      <td>Portugal/PT0003/2020</td>\n",
       "      <td>20A</td>\n",
       "      <td>4.0</td>\n",
       "      <td>1.0</td>\n",
       "      <td>0.0</td>\n",
       "      <td>0.0</td>\n",
       "      <td>0.0</td>\n",
       "      <td>0.0</td>\n",
       "      <td>0.0</td>\n",
       "      <td>0.0</td>\n",
       "      <td>...</td>\n",
       "      <td>0.0</td>\n",
       "      <td>0.0</td>\n",
       "      <td>0.0</td>\n",
       "      <td>0.0</td>\n",
       "      <td>0.0</td>\n",
       "      <td>0.0</td>\n",
       "      <td>0.0</td>\n",
       "      <td>0.0</td>\n",
       "      <td>0.0</td>\n",
       "      <td>0.0</td>\n",
       "    </tr>\n",
       "    <tr>\n",
       "      <th>...</th>\n",
       "      <td>...</td>\n",
       "      <td>...</td>\n",
       "      <td>...</td>\n",
       "      <td>...</td>\n",
       "      <td>...</td>\n",
       "      <td>...</td>\n",
       "      <td>...</td>\n",
       "      <td>...</td>\n",
       "      <td>...</td>\n",
       "      <td>...</td>\n",
       "      <td>...</td>\n",
       "      <td>...</td>\n",
       "      <td>...</td>\n",
       "      <td>...</td>\n",
       "      <td>...</td>\n",
       "      <td>...</td>\n",
       "      <td>...</td>\n",
       "      <td>...</td>\n",
       "      <td>...</td>\n",
       "      <td>...</td>\n",
       "      <td>...</td>\n",
       "    </tr>\n",
       "    <tr>\n",
       "      <th>20105</th>\n",
       "      <td>Portugal/PT20090/2021</td>\n",
       "      <td>21J (Delta)</td>\n",
       "      <td>16.0</td>\n",
       "      <td>4.0</td>\n",
       "      <td>2.0</td>\n",
       "      <td>0.0</td>\n",
       "      <td>2.0</td>\n",
       "      <td>2.0</td>\n",
       "      <td>9.0</td>\n",
       "      <td>1.0</td>\n",
       "      <td>...</td>\n",
       "      <td>1.0</td>\n",
       "      <td>0.0</td>\n",
       "      <td>2.0</td>\n",
       "      <td>1.0</td>\n",
       "      <td>0.0</td>\n",
       "      <td>0.0</td>\n",
       "      <td>0.0</td>\n",
       "      <td>0.0</td>\n",
       "      <td>1.0</td>\n",
       "      <td>1.0</td>\n",
       "    </tr>\n",
       "    <tr>\n",
       "      <th>20106</th>\n",
       "      <td>Portugal/PT20091/2021</td>\n",
       "      <td>21J (Delta)</td>\n",
       "      <td>21.0</td>\n",
       "      <td>7.0</td>\n",
       "      <td>3.0</td>\n",
       "      <td>0.0</td>\n",
       "      <td>2.0</td>\n",
       "      <td>2.0</td>\n",
       "      <td>9.0</td>\n",
       "      <td>0.0</td>\n",
       "      <td>...</td>\n",
       "      <td>1.0</td>\n",
       "      <td>0.0</td>\n",
       "      <td>2.0</td>\n",
       "      <td>1.0</td>\n",
       "      <td>1.0</td>\n",
       "      <td>0.0</td>\n",
       "      <td>0.0</td>\n",
       "      <td>0.0</td>\n",
       "      <td>1.0</td>\n",
       "      <td>1.0</td>\n",
       "    </tr>\n",
       "    <tr>\n",
       "      <th>20107</th>\n",
       "      <td>Portugal/PT20092/2021</td>\n",
       "      <td>21J (Delta)</td>\n",
       "      <td>17.0</td>\n",
       "      <td>5.0</td>\n",
       "      <td>3.0</td>\n",
       "      <td>1.0</td>\n",
       "      <td>2.0</td>\n",
       "      <td>1.0</td>\n",
       "      <td>10.0</td>\n",
       "      <td>0.0</td>\n",
       "      <td>...</td>\n",
       "      <td>1.0</td>\n",
       "      <td>0.0</td>\n",
       "      <td>2.0</td>\n",
       "      <td>1.0</td>\n",
       "      <td>0.0</td>\n",
       "      <td>0.0</td>\n",
       "      <td>0.0</td>\n",
       "      <td>0.0</td>\n",
       "      <td>1.0</td>\n",
       "      <td>1.0</td>\n",
       "    </tr>\n",
       "    <tr>\n",
       "      <th>20108</th>\n",
       "      <td>Portugal/PT20093/2021</td>\n",
       "      <td>21J (Delta)</td>\n",
       "      <td>21.0</td>\n",
       "      <td>7.0</td>\n",
       "      <td>3.0</td>\n",
       "      <td>0.0</td>\n",
       "      <td>2.0</td>\n",
       "      <td>2.0</td>\n",
       "      <td>10.0</td>\n",
       "      <td>0.0</td>\n",
       "      <td>...</td>\n",
       "      <td>1.0</td>\n",
       "      <td>0.0</td>\n",
       "      <td>2.0</td>\n",
       "      <td>1.0</td>\n",
       "      <td>1.0</td>\n",
       "      <td>0.0</td>\n",
       "      <td>0.0</td>\n",
       "      <td>0.0</td>\n",
       "      <td>1.0</td>\n",
       "      <td>1.0</td>\n",
       "    </tr>\n",
       "    <tr>\n",
       "      <th>20109</th>\n",
       "      <td>Portugal/PT20094/2021</td>\n",
       "      <td>21J (Delta)</td>\n",
       "      <td>21.0</td>\n",
       "      <td>6.0</td>\n",
       "      <td>3.0</td>\n",
       "      <td>0.0</td>\n",
       "      <td>2.0</td>\n",
       "      <td>2.0</td>\n",
       "      <td>9.0</td>\n",
       "      <td>0.0</td>\n",
       "      <td>...</td>\n",
       "      <td>1.0</td>\n",
       "      <td>0.0</td>\n",
       "      <td>2.0</td>\n",
       "      <td>1.0</td>\n",
       "      <td>1.0</td>\n",
       "      <td>0.0</td>\n",
       "      <td>0.0</td>\n",
       "      <td>0.0</td>\n",
       "      <td>1.0</td>\n",
       "      <td>1.0</td>\n",
       "    </tr>\n",
       "  </tbody>\n",
       "</table>\n",
       "<p>20110 rows × 21 columns</p>\n",
       "</div>"
      ],
      "text/plain": [
       "                     seqName        clade   C>T  A>G  G>A  G>C  T>C  C>A  \\\n",
       "0            Wuhan/Hu-1/2019          19A   0.0  0.0  0.0  0.0  0.0  0.0   \n",
       "1         Portugal/CV62/2020          20B   4.0  1.0  2.0  1.0  0.0  0.0   \n",
       "2         Portugal/CV63/2020          20A   4.0  1.0  0.0  0.0  0.0  0.0   \n",
       "3      Portugal/PT0001b/2020          20B   4.0  1.0  2.0  1.0  0.0  0.0   \n",
       "4       Portugal/PT0003/2020          20A   4.0  1.0  0.0  0.0  0.0  0.0   \n",
       "...                      ...          ...   ...  ...  ...  ...  ...  ...   \n",
       "20105  Portugal/PT20090/2021  21J (Delta)  16.0  4.0  2.0  0.0  2.0  2.0   \n",
       "20106  Portugal/PT20091/2021  21J (Delta)  21.0  7.0  3.0  0.0  2.0  2.0   \n",
       "20107  Portugal/PT20092/2021  21J (Delta)  17.0  5.0  3.0  1.0  2.0  1.0   \n",
       "20108  Portugal/PT20093/2021  21J (Delta)  21.0  7.0  3.0  0.0  2.0  2.0   \n",
       "20109  Portugal/PT20094/2021  21J (Delta)  21.0  6.0  3.0  0.0  2.0  2.0   \n",
       "\n",
       "        G>T  A>T  ...  T>G  A>C  C>G  A>del  TAT>del  TTA>del  TCTGGTTTT>del  \\\n",
       "0       0.0  0.0  ...  0.0  0.0  0.0    0.0      0.0      0.0            0.0   \n",
       "1       0.0  0.0  ...  0.0  0.0  0.0    0.0      0.0      0.0            0.0   \n",
       "2       0.0  0.0  ...  0.0  0.0  0.0    0.0      0.0      0.0            0.0   \n",
       "3       0.0  0.0  ...  0.0  0.0  0.0    0.0      0.0      0.0            0.0   \n",
       "4       0.0  0.0  ...  0.0  0.0  0.0    0.0      0.0      0.0            0.0   \n",
       "...     ...  ...  ...  ...  ...  ...    ...      ...      ...            ...   \n",
       "20105   9.0  1.0  ...  1.0  0.0  2.0    1.0      0.0      0.0            0.0   \n",
       "20106   9.0  0.0  ...  1.0  0.0  2.0    1.0      1.0      0.0            0.0   \n",
       "20107  10.0  0.0  ...  1.0  0.0  2.0    1.0      0.0      0.0            0.0   \n",
       "20108  10.0  0.0  ...  1.0  0.0  2.0    1.0      1.0      0.0            0.0   \n",
       "20109   9.0  0.0  ...  1.0  0.0  2.0    1.0      1.0      0.0            0.0   \n",
       "\n",
       "       TACATG>del  AGTTCA>del  GATTTC>del  \n",
       "0             0.0         0.0         0.0  \n",
       "1             0.0         0.0         0.0  \n",
       "2             0.0         0.0         0.0  \n",
       "3             0.0         0.0         0.0  \n",
       "4             0.0         0.0         0.0  \n",
       "...           ...         ...         ...  \n",
       "20105         0.0         1.0         1.0  \n",
       "20106         0.0         1.0         1.0  \n",
       "20107         0.0         1.0         1.0  \n",
       "20108         0.0         1.0         1.0  \n",
       "20109         0.0         1.0         1.0  \n",
       "\n",
       "[20110 rows x 21 columns]"
      ]
     },
     "execution_count": 132,
     "metadata": {},
     "output_type": "execute_result"
    }
   ],
   "source": [
    "final_df"
   ]
  },
  {
   "cell_type": "code",
   "execution_count": 7,
   "metadata": {},
   "outputs": [],
   "source": [
    "#final_df.set_index('clade', inplace=True, drop = True)"
   ]
  },
  {
   "cell_type": "code",
   "execution_count": 8,
   "metadata": {},
   "outputs": [],
   "source": [
    "#final_df.drop(final_df.filter(regex=\"Unnamed\"), axis=1, inplace=True)"
   ]
  },
  {
   "cell_type": "markdown",
   "metadata": {},
   "source": [
    "# PCA \n"
   ]
  },
  {
   "cell_type": "code",
   "execution_count": 135,
   "metadata": {},
   "outputs": [
    {
     "data": {
      "text/plain": [
       "array([[ 4.51921035e-01,  5.30497561e+00, -1.03919917e+00, ...,\n",
       "        -5.48158994e-01,  1.63582410e-01, -9.70084514e-02],\n",
       "       [ 5.23109265e-01,  4.56070816e+00, -1.93549311e-01, ...,\n",
       "        -4.57642681e-02,  9.43781658e-02,  5.84388689e-02],\n",
       "       [ 3.20620977e-01,  5.11503033e+00, -1.00128571e+00, ...,\n",
       "        -8.38809039e-02,  7.15593990e-02, -8.88769121e-03],\n",
       "       ...,\n",
       "       [-2.39821603e+00, -8.64817496e-01,  2.70558085e-03, ...,\n",
       "         6.56444965e-02, -3.28358144e-01, -3.84748888e-02],\n",
       "       [-2.03259906e+00, -1.88060221e+00, -2.98277269e-01, ...,\n",
       "         1.18812285e+00, -1.10129041e+00, -9.24695117e-01],\n",
       "       [-1.82918457e+00, -1.63116513e+00, -3.47132658e-01, ...,\n",
       "         7.52791068e-01, -9.36705693e-01, -9.51944823e-01]])"
      ]
     },
     "execution_count": 135,
     "metadata": {},
     "output_type": "execute_result"
    }
   ],
   "source": [
    "scaled_data = preprocessing.scale(final_df.iloc[:,3:]) # Fazer scaling dos dados para que fique centrado (0,0) \n",
    "# Como alternativa podemos usar o seguinte código para centrar os dados:\n",
    "# StandardScaler().fit_transform(final_data_2)\n",
    "\n",
    "pca = PCA(n_components=10) #n_componentes=X onde X é o numero de PC que quermos colocar no spree plot\n",
    "pca.fit(scaled_data)  # calcular loading scores e variaçao para cada PCA\n",
    "pca_data = pca.transform(scaled_data)\n",
    "pca_data #TODO: cortar colunas com soma de \t10,20,30,40..."
   ]
  },
  {
   "cell_type": "code",
   "execution_count": 136,
   "metadata": {},
   "outputs": [
    {
     "data": {
      "text/plain": [
       "array([0.45908442, 0.24217856, 0.06313149, 0.05623886, 0.03783131,\n",
       "       0.03191587, 0.02173926, 0.01566225, 0.01236276, 0.01163735])"
      ]
     },
     "execution_count": 136,
     "metadata": {},
     "output_type": "execute_result"
    }
   ],
   "source": [
    "pca.explained_variance_ratio_\n"
   ]
  },
  {
   "cell_type": "code",
   "execution_count": 137,
   "metadata": {},
   "outputs": [
    {
     "data": {
      "text/plain": [
       "array([45.9, 24.2,  6.3,  5.6,  3.8,  3.2,  2.2,  1.6,  1.2,  1.2])"
      ]
     },
     "execution_count": 137,
     "metadata": {},
     "output_type": "execute_result"
    }
   ],
   "source": [
    "per_var = np.round(pca.explained_variance_ratio_*100, decimals=1)\n",
    "per_var\n"
   ]
  },
  {
   "cell_type": "code",
   "execution_count": 138,
   "metadata": {},
   "outputs": [
    {
     "data": {
      "text/plain": [
       "['PC1', 'PC2', 'PC3', 'PC4', 'PC5', 'PC6', 'PC7', 'PC8', 'PC9', 'PC10']"
      ]
     },
     "execution_count": 138,
     "metadata": {},
     "output_type": "execute_result"
    }
   ],
   "source": [
    "labels = ['PC' + str(x) for x in range(1, len(per_var)+1)]\n",
    "labels\n"
   ]
  },
  {
   "cell_type": "code",
   "execution_count": 139,
   "metadata": {},
   "outputs": [
    {
     "data": {
      "image/png": "[encoded data removed]",
      "text/plain": [
       "<Figure size 432x288 with 1 Axes>"
      ]
     },
     "metadata": {
      "needs_background": "light"
     },
     "output_type": "display_data"
    }
   ],
   "source": [
    "plt.bar(x=range(1, len(per_var)+1), height=per_var, tick_label=labels)\n",
    "plt.ylabel('Percentage of explained variability')\n",
    "plt.xlabel('Principal component')\n",
    "plt.title('Scree plot')\n",
    "plt.show()  # grande parte da variabilidade está presente nos primeiros 9 componentes (cut-off point de 2). Estes 9 PC podem fazer uma boa representaçao geral dos dados"
   ]
  },
  {
   "cell_type": "markdown",
   "metadata": {},
   "source": [
    "* Soma das variancias dos PC"
   ]
  },
  {
   "cell_type": "code",
   "execution_count": 140,
   "metadata": {},
   "outputs": [
    {
     "data": {
      "application/vnd.plotly.v1+json": {
       "config": {
        "plotlyServerURL": "https://plot.ly"
       },
       "data": [
        {
         "hovertemplate": "# Components=%{x}<br>Explained Variance=%{y}<extra></extra>",
         "legendgroup": "",
         "line": {
          "color": "#636efa"
         },
         "marker": {
          "symbol": "circle"
         },
         "mode": "lines",
         "name": "",
         "orientation": "v",
         "showlegend": false,
         "stackgroup": "1",
         "type": "scatter",
         "x": [
          1,
          2,
          3,
          4,
          5,
          6,
          7,
          8,
          9,
          10
         ],
         "xaxis": "x",
         "y": [
          0.45908442368018104,
          0.7012629805441295,
          0.7643944684729735,
          0.8206333244889767,
          0.8584646319255967,
          0.8903805029530867,
          0.9121197664244286,
          0.92778202055049,
          0.9401447777539684,
          0.9517821242737583
         ],
         "yaxis": "y"
        }
       ],
       "layout": {
        "legend": {
         "tracegroupgap": 0
        },
        "margin": {
         "t": 60
        },
        "template": {
         "data": {
          "bar": [
           {
            "error_x": {
             "color": "#2a3f5f"
            },
            "error_y": {
             "color": "#2a3f5f"
            },
            "marker": {
             "line": {
              "color": "#E5ECF6",
              "width": 0.5
             },
             "pattern": {
              "fillmode": "overlay",
              "size": 10,
              "solidity": 0.2
             }
            },
            "type": "bar"
           }
          ],
          "barpolar": [
           {
            "marker": {
             "line": {
              "color": "#E5ECF6",
              "width": 0.5
             },
             "pattern": {
              "fillmode": "overlay",
              "size": 10,
              "solidity": 0.2
             }
            },
            "type": "barpolar"
           }
          ],
          "carpet": [
           {
            "aaxis": {
             "endlinecolor": "#2a3f5f",
             "gridcolor": "white",
             "linecolor": "white",
             "minorgridcolor": "white",
             "startlinecolor": "#2a3f5f"
            },
            "baxis": {
             "endlinecolor": "#2a3f5f",
             "gridcolor": "white",
             "linecolor": "white",
             "minorgridcolor": "white",
             "startlinecolor": "#2a3f5f"
            },
            "type": "carpet"
           }
          ],
          "choropleth": [
           {
            "colorbar": {
             "outlinewidth": 0,
             "ticks": ""
            },
            "type": "choropleth"
           }
          ],
          "contour": [
           {
            "colorbar": {
             "outlinewidth": 0,
             "ticks": ""
            },
            "colorscale": [
             [
              0,
              "#0d0887"
             ],
             [
              0.1111111111111111,
              "#46039f"
             ],
             [
              0.2222222222222222,
              "#7201a8"
             ],
             [
              0.3333333333333333,
              "#9c179e"
             ],
             [
              0.4444444444444444,
              "#bd3786"
             ],
             [
              0.5555555555555556,
              "#d8576b"
             ],
             [
              0.6666666666666666,
              "#ed7953"
             ],
             [
              0.7777777777777778,
              "#fb9f3a"
             ],
             [
              0.8888888888888888,
              "#fdca26"
             ],
             [
              1,
              "#f0f921"
             ]
            ],
            "type": "contour"
           }
          ],
          "contourcarpet": [
           {
            "colorbar": {
             "outlinewidth": 0,
             "ticks": ""
            },
            "type": "contourcarpet"
           }
          ],
          "heatmap": [
           {
            "colorbar": {
             "outlinewidth": 0,
             "ticks": ""
            },
            "colorscale": [
             [
              0,
              "#0d0887"
             ],
             [
              0.1111111111111111,
              "#46039f"
             ],
             [
              0.2222222222222222,
              "#7201a8"
             ],
             [
              0.3333333333333333,
              "#9c179e"
             ],
             [
              0.4444444444444444,
              "#bd3786"
             ],
             [
              0.5555555555555556,
              "#d8576b"
             ],
             [
              0.6666666666666666,
              "#ed7953"
             ],
             [
              0.7777777777777778,
              "#fb9f3a"
             ],
             [
              0.8888888888888888,
              "#fdca26"
             ],
             [
              1,
              "#f0f921"
             ]
            ],
            "type": "heatmap"
           }
          ],
          "heatmapgl": [
           {
            "colorbar": {
             "outlinewidth": 0,
             "ticks": ""
            },
            "colorscale": [
             [
              0,
              "#0d0887"
             ],
             [
              0.1111111111111111,
              "#46039f"
             ],
             [
              0.2222222222222222,
              "#7201a8"
             ],
             [
              0.3333333333333333,
              "#9c179e"
             ],
             [
              0.4444444444444444,
              "#bd3786"
             ],
             [
              0.5555555555555556,
              "#d8576b"
             ],
             [
              0.6666666666666666,
              "#ed7953"
             ],
             [
              0.7777777777777778,
              "#fb9f3a"
             ],
             [
              0.8888888888888888,
              "#fdca26"
             ],
             [
              1,
              "#f0f921"
             ]
            ],
            "type": "heatmapgl"
           }
          ],
          "histogram": [
           {
            "marker": {
             "pattern": {
              "fillmode": "overlay",
              "size": 10,
              "solidity": 0.2
             }
            },
            "type": "histogram"
           }
          ],
          "histogram2d": [
           {
            "colorbar": {
             "outlinewidth": 0,
             "ticks": ""
            },
            "colorscale": [
             [
              0,
              "#0d0887"
             ],
             [
              0.1111111111111111,
              "#46039f"
             ],
             [
              0.2222222222222222,
              "#7201a8"
             ],
             [
              0.3333333333333333,
              "#9c179e"
             ],
             [
              0.4444444444444444,
              "#bd3786"
             ],
             [
              0.5555555555555556,
              "#d8576b"
             ],
             [
              0.6666666666666666,
              "#ed7953"
             ],
             [
              0.7777777777777778,
              "#fb9f3a"
             ],
             [
              0.8888888888888888,
              "#fdca26"
             ],
             [
              1,
              "#f0f921"
             ]
            ],
            "type": "histogram2d"
           }
          ],
          "histogram2dcontour": [
           {
            "colorbar": {
             "outlinewidth": 0,
             "ticks": ""
            },
            "colorscale": [
             [
              0,
              "#0d0887"
             ],
             [
              0.1111111111111111,
              "#46039f"
             ],
             [
              0.2222222222222222,
              "#7201a8"
             ],
             [
              0.3333333333333333,
              "#9c179e"
             ],
             [
              0.4444444444444444,
              "#bd3786"
             ],
             [
              0.5555555555555556,
              "#d8576b"
             ],
             [
              0.6666666666666666,
              "#ed7953"
             ],
             [
              0.7777777777777778,
              "#fb9f3a"
             ],
             [
              0.8888888888888888,
              "#fdca26"
             ],
             [
              1,
              "#f0f921"
             ]
            ],
            "type": "histogram2dcontour"
           }
          ],
          "mesh3d": [
           {
            "colorbar": {
             "outlinewidth": 0,
             "ticks": ""
            },
            "type": "mesh3d"
           }
          ],
          "parcoords": [
           {
            "line": {
             "colorbar": {
              "outlinewidth": 0,
              "ticks": ""
             }
            },
            "type": "parcoords"
           }
          ],
          "pie": [
           {
            "automargin": true,
            "type": "pie"
           }
          ],
          "scatter": [
           {
            "marker": {
             "colorbar": {
              "outlinewidth": 0,
              "ticks": ""
             }
            },
            "type": "scatter"
           }
          ],
          "scatter3d": [
           {
            "line": {
             "colorbar": {
              "outlinewidth": 0,
              "ticks": ""
             }
            },
            "marker": {
             "colorbar": {
              "outlinewidth": 0,
              "ticks": ""
             }
            },
            "type": "scatter3d"
           }
          ],
          "scattercarpet": [
           {
            "marker": {
             "colorbar": {
              "outlinewidth": 0,
              "ticks": ""
             }
            },
            "type": "scattercarpet"
           }
          ],
          "scattergeo": [
           {
            "marker": {
             "colorbar": {
              "outlinewidth": 0,
              "ticks": ""
             }
            },
            "type": "scattergeo"
           }
          ],
          "scattergl": [
           {
            "marker": {
             "colorbar": {
              "outlinewidth": 0,
              "ticks": ""
             }
            },
            "type": "scattergl"
           }
          ],
          "scattermapbox": [
           {
            "marker": {
             "colorbar": {
              "outlinewidth": 0,
              "ticks": ""
             }
            },
            "type": "scattermapbox"
           }
          ],
          "scatterpolar": [
           {
            "marker": {
             "colorbar": {
              "outlinewidth": 0,
              "ticks": ""
             }
            },
            "type": "scatterpolar"
           }
          ],
          "scatterpolargl": [
           {
            "marker": {
             "colorbar": {
              "outlinewidth": 0,
              "ticks": ""
             }
            },
            "type": "scatterpolargl"
           }
          ],
          "scatterternary": [
           {
            "marker": {
             "colorbar": {
              "outlinewidth": 0,
              "ticks": ""
             }
            },
            "type": "scatterternary"
           }
          ],
          "surface": [
           {
            "colorbar": {
             "outlinewidth": 0,
             "ticks": ""
            },
            "colorscale": [
             [
              0,
              "#0d0887"
             ],
             [
              0.1111111111111111,
              "#46039f"
             ],
             [
              0.2222222222222222,
              "#7201a8"
             ],
             [
              0.3333333333333333,
              "#9c179e"
             ],
             [
              0.4444444444444444,
              "#bd3786"
             ],
             [
              0.5555555555555556,
              "#d8576b"
             ],
             [
              0.6666666666666666,
              "#ed7953"
             ],
             [
              0.7777777777777778,
              "#fb9f3a"
             ],
             [
              0.8888888888888888,
              "#fdca26"
             ],
             [
              1,
              "#f0f921"
             ]
            ],
            "type": "surface"
           }
          ],
          "table": [
           {
            "cells": {
             "fill": {
              "color": "#EBF0F8"
             },
             "line": {
              "color": "white"
             }
            },
            "header": {
             "fill": {
              "color": "#C8D4E3"
             },
             "line": {
              "color": "white"
             }
            },
            "type": "table"
           }
          ]
         },
         "layout": {
          "annotationdefaults": {
           "arrowcolor": "#2a3f5f",
           "arrowhead": 0,
           "arrowwidth": 1
          },
          "autotypenumbers": "strict",
          "coloraxis": {
           "colorbar": {
            "outlinewidth": 0,
            "ticks": ""
           }
          },
          "colorscale": {
           "diverging": [
            [
             0,
             "#8e0152"
            ],
            [
             0.1,
             "#c51b7d"
            ],
            [
             0.2,
             "#de77ae"
            ],
            [
             0.3,
             "#f1b6da"
            ],
            [
             0.4,
             "#fde0ef"
            ],
            [
             0.5,
             "#f7f7f7"
            ],
            [
             0.6,
             "#e6f5d0"
            ],
            [
             0.7,
             "#b8e186"
            ],
            [
             0.8,
             "#7fbc41"
            ],
            [
             0.9,
             "#4d9221"
            ],
            [
             1,
             "#276419"
            ]
           ],
           "sequential": [
            [
             0,
             "#0d0887"
            ],
            [
             0.1111111111111111,
             "#46039f"
            ],
            [
             0.2222222222222222,
             "#7201a8"
            ],
            [
             0.3333333333333333,
             "#9c179e"
            ],
            [
             0.4444444444444444,
             "#bd3786"
            ],
            [
             0.5555555555555556,
             "#d8576b"
            ],
            [
             0.6666666666666666,
             "#ed7953"
            ],
            [
             0.7777777777777778,
             "#fb9f3a"
            ],
            [
             0.8888888888888888,
             "#fdca26"
            ],
            [
             1,
             "#f0f921"
            ]
           ],
           "sequentialminus": [
            [
             0,
             "#0d0887"
            ],
            [
             0.1111111111111111,
             "#46039f"
            ],
            [
             0.2222222222222222,
             "#7201a8"
            ],
            [
             0.3333333333333333,
             "#9c179e"
            ],
            [
             0.4444444444444444,
             "#bd3786"
            ],
            [
             0.5555555555555556,
             "#d8576b"
            ],
            [
             0.6666666666666666,
             "#ed7953"
            ],
            [
             0.7777777777777778,
             "#fb9f3a"
            ],
            [
             0.8888888888888888,
             "#fdca26"
            ],
            [
             1,
             "#f0f921"
            ]
           ]
          },
          "colorway": [
           "#636efa",
           "#EF553B",
           "#00cc96",
           "#ab63fa",
           "#FFA15A",
           "#19d3f3",
           "#FF6692",
           "#B6E880",
           "#FF97FF",
           "#FECB52"
          ],
          "font": {
           "color": "#2a3f5f"
          },
          "geo": {
           "bgcolor": "white",
           "lakecolor": "white",
           "landcolor": "#E5ECF6",
           "showlakes": true,
           "showland": true,
           "subunitcolor": "white"
          },
          "hoverlabel": {
           "align": "left"
          },
          "hovermode": "closest",
          "mapbox": {
           "style": "light"
          },
          "paper_bgcolor": "white",
          "plot_bgcolor": "#E5ECF6",
          "polar": {
           "angularaxis": {
            "gridcolor": "white",
            "linecolor": "white",
            "ticks": ""
           },
           "bgcolor": "#E5ECF6",
           "radialaxis": {
            "gridcolor": "white",
            "linecolor": "white",
            "ticks": ""
           }
          },
          "scene": {
           "xaxis": {
            "backgroundcolor": "#E5ECF6",
            "gridcolor": "white",
            "gridwidth": 2,
            "linecolor": "white",
            "showbackground": true,
            "ticks": "",
            "zerolinecolor": "white"
           },
           "yaxis": {
            "backgroundcolor": "#E5ECF6",
            "gridcolor": "white",
            "gridwidth": 2,
            "linecolor": "white",
            "showbackground": true,
            "ticks": "",
            "zerolinecolor": "white"
           },
           "zaxis": {
            "backgroundcolor": "#E5ECF6",
            "gridcolor": "white",
            "gridwidth": 2,
            "linecolor": "white",
            "showbackground": true,
            "ticks": "",
            "zerolinecolor": "white"
           }
          },
          "shapedefaults": {
           "line": {
            "color": "#2a3f5f"
           }
          },
          "ternary": {
           "aaxis": {
            "gridcolor": "white",
            "linecolor": "white",
            "ticks": ""
           },
           "baxis": {
            "gridcolor": "white",
            "linecolor": "white",
            "ticks": ""
           },
           "bgcolor": "#E5ECF6",
           "caxis": {
            "gridcolor": "white",
            "linecolor": "white",
            "ticks": ""
           }
          },
          "title": {
           "x": 0.05
          },
          "xaxis": {
           "automargin": true,
           "gridcolor": "white",
           "linecolor": "white",
           "ticks": "",
           "title": {
            "standoff": 15
           },
           "zerolinecolor": "white",
           "zerolinewidth": 2
          },
          "yaxis": {
           "automargin": true,
           "gridcolor": "white",
           "linecolor": "white",
           "ticks": "",
           "title": {
            "standoff": 15
           },
           "zerolinecolor": "white",
           "zerolinewidth": 2
          }
         }
        },
        "xaxis": {
         "anchor": "y",
         "domain": [
          0,
          1
         ],
         "title": {
          "text": "# Components"
         }
        },
        "yaxis": {
         "anchor": "x",
         "domain": [
          0,
          1
         ],
         "title": {
          "text": "Explained Variance"
         }
        }
       }
      }
     },
     "metadata": {},
     "output_type": "display_data"
    }
   ],
   "source": [
    "exp_var_cumul = np.cumsum(pca.explained_variance_ratio_)\n",
    "\n",
    "px.area(\n",
    "    x=range(1, exp_var_cumul.shape[0] + 1),\n",
    "    y=exp_var_cumul,\n",
    "    labels={\"x\": \"# Components\", \"y\": \"Explained Variance\"}\n",
    ")"
   ]
  },
  {
   "cell_type": "code",
   "execution_count": 141,
   "metadata": {},
   "outputs": [
    {
     "data": {
      "text/html": [
       "<div>\n",
       "<style scoped>\n",
       "    .dataframe tbody tr th:only-of-type {\n",
       "        vertical-align: middle;\n",
       "    }\n",
       "\n",
       "    .dataframe tbody tr th {\n",
       "        vertical-align: top;\n",
       "    }\n",
       "\n",
       "    .dataframe thead th {\n",
       "        text-align: right;\n",
       "    }\n",
       "</style>\n",
       "<table border=\"1\" class=\"dataframe\">\n",
       "  <thead>\n",
       "    <tr style=\"text-align: right;\">\n",
       "      <th></th>\n",
       "      <th>PC1</th>\n",
       "      <th>PC2</th>\n",
       "      <th>PC3</th>\n",
       "      <th>PC4</th>\n",
       "      <th>PC5</th>\n",
       "      <th>PC6</th>\n",
       "      <th>PC7</th>\n",
       "      <th>PC8</th>\n",
       "      <th>PC9</th>\n",
       "      <th>PC10</th>\n",
       "    </tr>\n",
       "  </thead>\n",
       "  <tbody>\n",
       "    <tr>\n",
       "      <th>0</th>\n",
       "      <td>0.451921</td>\n",
       "      <td>5.304976</td>\n",
       "      <td>-1.039199</td>\n",
       "      <td>-0.120236</td>\n",
       "      <td>-0.515004</td>\n",
       "      <td>-0.242163</td>\n",
       "      <td>-0.517175</td>\n",
       "      <td>-0.548159</td>\n",
       "      <td>0.163582</td>\n",
       "      <td>-0.097008</td>\n",
       "    </tr>\n",
       "    <tr>\n",
       "      <th>1</th>\n",
       "      <td>0.523109</td>\n",
       "      <td>4.560708</td>\n",
       "      <td>-0.193549</td>\n",
       "      <td>0.202746</td>\n",
       "      <td>1.040582</td>\n",
       "      <td>-0.526869</td>\n",
       "      <td>-0.235319</td>\n",
       "      <td>-0.045764</td>\n",
       "      <td>0.094378</td>\n",
       "      <td>0.058439</td>\n",
       "    </tr>\n",
       "    <tr>\n",
       "      <th>2</th>\n",
       "      <td>0.320621</td>\n",
       "      <td>5.115030</td>\n",
       "      <td>-1.001286</td>\n",
       "      <td>-0.105806</td>\n",
       "      <td>-0.613331</td>\n",
       "      <td>-0.343857</td>\n",
       "      <td>-0.240091</td>\n",
       "      <td>-0.083881</td>\n",
       "      <td>0.071559</td>\n",
       "      <td>-0.008888</td>\n",
       "    </tr>\n",
       "    <tr>\n",
       "      <th>3</th>\n",
       "      <td>0.523109</td>\n",
       "      <td>4.560708</td>\n",
       "      <td>-0.193549</td>\n",
       "      <td>0.202746</td>\n",
       "      <td>1.040582</td>\n",
       "      <td>-0.526869</td>\n",
       "      <td>-0.235319</td>\n",
       "      <td>-0.045764</td>\n",
       "      <td>0.094378</td>\n",
       "      <td>0.058439</td>\n",
       "    </tr>\n",
       "    <tr>\n",
       "      <th>4</th>\n",
       "      <td>0.320621</td>\n",
       "      <td>5.115030</td>\n",
       "      <td>-1.001286</td>\n",
       "      <td>-0.105806</td>\n",
       "      <td>-0.613331</td>\n",
       "      <td>-0.343857</td>\n",
       "      <td>-0.240091</td>\n",
       "      <td>-0.083881</td>\n",
       "      <td>0.071559</td>\n",
       "      <td>-0.008888</td>\n",
       "    </tr>\n",
       "    <tr>\n",
       "      <th>...</th>\n",
       "      <td>...</td>\n",
       "      <td>...</td>\n",
       "      <td>...</td>\n",
       "      <td>...</td>\n",
       "      <td>...</td>\n",
       "      <td>...</td>\n",
       "      <td>...</td>\n",
       "      <td>...</td>\n",
       "      <td>...</td>\n",
       "      <td>...</td>\n",
       "    </tr>\n",
       "    <tr>\n",
       "      <th>20105</th>\n",
       "      <td>-1.975821</td>\n",
       "      <td>-0.748403</td>\n",
       "      <td>-0.507629</td>\n",
       "      <td>-0.083867</td>\n",
       "      <td>-0.416924</td>\n",
       "      <td>-0.267672</td>\n",
       "      <td>0.150369</td>\n",
       "      <td>-0.353607</td>\n",
       "      <td>0.733852</td>\n",
       "      <td>-0.496555</td>\n",
       "    </tr>\n",
       "    <tr>\n",
       "      <th>20106</th>\n",
       "      <td>-1.960485</td>\n",
       "      <td>-1.821110</td>\n",
       "      <td>-0.309219</td>\n",
       "      <td>0.099560</td>\n",
       "      <td>0.145377</td>\n",
       "      <td>-0.830430</td>\n",
       "      <td>0.726421</td>\n",
       "      <td>1.217069</td>\n",
       "      <td>-1.028729</td>\n",
       "      <td>-0.863824</td>\n",
       "    </tr>\n",
       "    <tr>\n",
       "      <th>20107</th>\n",
       "      <td>-2.398216</td>\n",
       "      <td>-0.864817</td>\n",
       "      <td>0.002706</td>\n",
       "      <td>0.156255</td>\n",
       "      <td>0.506897</td>\n",
       "      <td>-0.352722</td>\n",
       "      <td>0.227552</td>\n",
       "      <td>0.065644</td>\n",
       "      <td>-0.328358</td>\n",
       "      <td>-0.038475</td>\n",
       "    </tr>\n",
       "    <tr>\n",
       "      <th>20108</th>\n",
       "      <td>-2.032599</td>\n",
       "      <td>-1.880602</td>\n",
       "      <td>-0.298277</td>\n",
       "      <td>0.103282</td>\n",
       "      <td>0.152099</td>\n",
       "      <td>-0.812041</td>\n",
       "      <td>0.775617</td>\n",
       "      <td>1.188123</td>\n",
       "      <td>-1.101290</td>\n",
       "      <td>-0.924695</td>\n",
       "    </tr>\n",
       "    <tr>\n",
       "      <th>20109</th>\n",
       "      <td>-1.829185</td>\n",
       "      <td>-1.631165</td>\n",
       "      <td>-0.347133</td>\n",
       "      <td>0.085130</td>\n",
       "      <td>0.243704</td>\n",
       "      <td>-0.728736</td>\n",
       "      <td>0.449336</td>\n",
       "      <td>0.752791</td>\n",
       "      <td>-0.936706</td>\n",
       "      <td>-0.951945</td>\n",
       "    </tr>\n",
       "  </tbody>\n",
       "</table>\n",
       "<p>20110 rows × 10 columns</p>\n",
       "</div>"
      ],
      "text/plain": [
       "            PC1       PC2       PC3       PC4       PC5       PC6       PC7  \\\n",
       "0      0.451921  5.304976 -1.039199 -0.120236 -0.515004 -0.242163 -0.517175   \n",
       "1      0.523109  4.560708 -0.193549  0.202746  1.040582 -0.526869 -0.235319   \n",
       "2      0.320621  5.115030 -1.001286 -0.105806 -0.613331 -0.343857 -0.240091   \n",
       "3      0.523109  4.560708 -0.193549  0.202746  1.040582 -0.526869 -0.235319   \n",
       "4      0.320621  5.115030 -1.001286 -0.105806 -0.613331 -0.343857 -0.240091   \n",
       "...         ...       ...       ...       ...       ...       ...       ...   \n",
       "20105 -1.975821 -0.748403 -0.507629 -0.083867 -0.416924 -0.267672  0.150369   \n",
       "20106 -1.960485 -1.821110 -0.309219  0.099560  0.145377 -0.830430  0.726421   \n",
       "20107 -2.398216 -0.864817  0.002706  0.156255  0.506897 -0.352722  0.227552   \n",
       "20108 -2.032599 -1.880602 -0.298277  0.103282  0.152099 -0.812041  0.775617   \n",
       "20109 -1.829185 -1.631165 -0.347133  0.085130  0.243704 -0.728736  0.449336   \n",
       "\n",
       "            PC8       PC9      PC10  \n",
       "0     -0.548159  0.163582 -0.097008  \n",
       "1     -0.045764  0.094378  0.058439  \n",
       "2     -0.083881  0.071559 -0.008888  \n",
       "3     -0.045764  0.094378  0.058439  \n",
       "4     -0.083881  0.071559 -0.008888  \n",
       "...         ...       ...       ...  \n",
       "20105 -0.353607  0.733852 -0.496555  \n",
       "20106  1.217069 -1.028729 -0.863824  \n",
       "20107  0.065644 -0.328358 -0.038475  \n",
       "20108  1.188123 -1.101290 -0.924695  \n",
       "20109  0.752791 -0.936706 -0.951945  \n",
       "\n",
       "[20110 rows x 10 columns]"
      ]
     },
     "execution_count": 141,
     "metadata": {},
     "output_type": "execute_result"
    }
   ],
   "source": [
    "\n",
    "#Guardar as labels das amostras numa variavel unica de modo a colocar como indice na data frame dos PCs\n",
    "sample_labels = final_df.index\n",
    "\n",
    "pca_df = pd.DataFrame(pca_data, index=[sample_labels], columns=labels)\n",
    "pca_df"
   ]
  },
  {
   "cell_type": "code",
   "execution_count": 145,
   "metadata": {},
   "outputs": [
    {
     "data": {
      "image/png": "[encoded data removed]",
      "text/plain": [
       "<Figure size 432x288 with 1 Axes>"
      ]
     },
     "metadata": {
      "needs_background": "light"
     },
     "output_type": "display_data"
    }
   ],
   "source": [
    "\n",
    "\n",
    "plt.scatter(pca_df.PC1, pca_df.PC2, alpha=0.2)\n",
    "plt.title(\"PCA graph\")\n",
    "plt.xlabel('PC1- {0}%'.format(per_var[0]))\n",
    "plt.ylabel('PC2- {0}%'.format(per_var[1]))\n",
    "plt.show()"
   ]
  },
  {
   "cell_type": "markdown",
   "metadata": {},
   "source": [
    "* KMeans clustering para identificar cluster (extrair os nossos clusters)\n"
   ]
  },
  {
   "cell_type": "code",
   "execution_count": 143,
   "metadata": {},
   "outputs": [],
   "source": [
    "kmeans = KMeans(n_clusters=19, random_state=0) #como estamos a olhar para 2 PC, o n_clusters vai ser 2. O metodo \n",
    "\n",
    "#Compute cluster centers and predict cluster indices\n",
    "X_clustered = kmeans.fit_predict(pca_df)\n"
   ]
  },
  {
   "cell_type": "code",
   "execution_count": 65,
   "metadata": {},
   "outputs": [],
   "source": [
    "import seaborn as sns"
   ]
  },
  {
   "cell_type": "markdown",
   "metadata": {},
   "source": [
    "# Criar labels unicas com as 19 clades"
   ]
  },
  {
   "cell_type": "code",
   "execution_count": 144,
   "metadata": {},
   "outputs": [
    {
     "data": {
      "image/png": "[encoded data removed]",
      "text/plain": [
       "<Figure size 720x720 with 1 Axes>"
      ]
     },
     "metadata": {
      "needs_background": "light"
     },
     "output_type": "display_data"
    }
   ],
   "source": [
    "#color_map = {0 : 'blue', 1 : 'red',2:'black',3:'green'} #alterar consoante o numero de componentes a analisar\n",
    "#dicionario vazio com clade \n",
    "\n",
    "dict_clade = {}\n",
    "for index,clade in enumerate(final_df.iloc[:,1]):\n",
    "\tif not clade in dict_clade: dict_clade[clade] = 0\n",
    "\n",
    "vect_palette = sns.color_palette(None, len(dict_clade))\n",
    "for _, key in enumerate(dict_clade):\n",
    "\tdict_clade[key] = vect_palette[_]\n",
    "label_color = []\n",
    "\n",
    "for index,clade in enumerate(final_df.iloc[:,1]):\n",
    "\tlabel_color.append(dict_clade[clade])\n",
    "\n",
    "plt.figure(figsize = (10,10))\n",
    "plt.scatter(pca_df.PC1,pca_df.PC2, c= label_color, alpha=0.3)\n",
    "\n",
    "#Add labels\n",
    "\n",
    "\n",
    "\n",
    "for index,clade in enumerate(pd.unique(final_df.iloc[:,1])):\n",
    "\n",
    "\ti = range(1,len(final_df))\n",
    "\n",
    "\tlabelpad = 0.01\n",
    "\t\n",
    "\tplt.text(pca_df.iloc[index,0]+labelpad, pca_df.iloc[index,1]+labelpad, clade, fontsize=9) # TODO: substituir cor por clade e nao por clusters\n",
    "\t#plt.scatter(pca_df.iloc[index,0], pca_df.iloc[index,1],c= label_color[index],edgecolor=\"\",marker='*')\n",
    "\n",
    "plt.xlabel('PC1- {0}%'.format(per_var[0]))\n",
    "plt.ylabel('PC2- {0}%'.format(per_var[1]))\n",
    "plt.show()"
   ]
  },
  {
   "cell_type": "code",
   "execution_count": 19,
   "metadata": {},
   "outputs": [],
   "source": [
    "#"
   ]
  }
 ],
 "metadata": {
  "interpreter": {
   "hash": "010b54f1825be09c18f412b79948692e03fb8efcbd4915706a1d6aa8fb5f9e13"
  },
  "kernelspec": {
   "display_name": "Python 3.8.8 64-bit ('base': conda)",
   "language": "python",
   "name": "python3"
  },
  "language_info": {
   "codemirror_mode": {
    "name": "ipython",
    "version": 3
   },
   "file_extension": ".py",
   "mimetype": "text/x-python",
   "name": "python",
   "nbconvert_exporter": "python",
   "pygments_lexer": "ipython3",
   "version": "3.8.8"
  },
  "orig_nbformat": 4
 },
 "nbformat": 4,
 "nbformat_minor": 2
}
